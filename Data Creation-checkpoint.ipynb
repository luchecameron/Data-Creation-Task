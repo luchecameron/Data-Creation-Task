{
 "cells": [
  {
   "cell_type": "markdown",
   "id": "71235284-6f6a-4cb7-b6aa-1db80d5a6643",
   "metadata": {},
   "source": [
    "# Stimulating sales data for Harmony Electronics"
   ]
  },
  {
   "cell_type": "code",
   "execution_count": 1,
   "id": "859eb35a-fa9a-4569-a6f2-58ad9f6381c4",
   "metadata": {},
   "outputs": [],
   "source": [
    "import pandas as pd"
   ]
  },
  {
   "cell_type": "code",
   "execution_count": 2,
   "id": "433d545a-6d8f-4e48-a0e0-05226ddd2464",
   "metadata": {},
   "outputs": [],
   "source": [
    "import numpy as np"
   ]
  },
  {
   "cell_type": "code",
   "execution_count": 3,
   "id": "0342b337-7b49-4e0b-b5a1-41f10387be4c",
   "metadata": {},
   "outputs": [],
   "source": [
    "n= 250 # indicates the number of rows"
   ]
  },
  {
   "cell_type": "code",
   "execution_count": null,
   "id": "feed2aac-2c54-4a81-9142-9f93d32b9f53",
   "metadata": {},
   "outputs": [],
   "source": []
  },
  {
   "cell_type": "code",
   "execution_count": 4,
   "id": "09348abb-7b0b-4a74-bca6-1cff7380b011",
   "metadata": {},
   "outputs": [],
   "source": [
    "transaction_ids = [f'T{str(i).zfill(5)}' for i in range( 1 , n+1 )] #creates a transaction id for all the row, the transaction_id will be a string. "
   ]
  },
  {
   "cell_type": "code",
   "execution_count": 5,
   "id": "0d647b0a-d039-459e-8b27-d5d04dc2fbed",
   "metadata": {},
   "outputs": [],
   "source": [
    "customers_ids = [f'C{str(i).zfill(4)}' for i in range(1 , 120)]# what is have 120 unique customer and for the dataset to display some loyal customers aswell"
   ]
  },
  {
   "cell_type": "code",
   "execution_count": null,
   "id": "f4c2619a-30d6-423f-a9da-6c9ccdf1da6b",
   "metadata": {},
   "outputs": [],
   "source": []
  },
  {
   "cell_type": "code",
   "execution_count": 6,
   "id": "33794241-7b6a-4abe-89c2-4abf0d4d29f9",
   "metadata": {},
   "outputs": [],
   "source": [
    "random_customer_id = np.random.choice(customers_ids,n) # Allows for the customer id to be selected randomly"
   ]
  },
  {
   "cell_type": "code",
   "execution_count": null,
   "id": "612c1ae4-bb88-4931-8323-5f7fc108e4cd",
   "metadata": {},
   "outputs": [],
   "source": []
  },
  {
   "cell_type": "code",
   "execution_count": 7,
   "id": "3f114cc3-65ea-4c0e-8a52-9007bd47d759",
   "metadata": {},
   "outputs": [],
   "source": [
    "age_range = ['18–25', '26–35', '36–50', '51+']"
   ]
  },
  {
   "cell_type": "code",
   "execution_count": 8,
   "id": "f007e4c1-32dd-4e18-85c6-06b2edc6d2d2",
   "metadata": {},
   "outputs": [],
   "source": [
    "random_age =np.random.choice(age_range,n)"
   ]
  },
  {
   "cell_type": "code",
   "execution_count": null,
   "id": "ef9eec1a-101c-4922-b9b4-73cb2b6a2135",
   "metadata": {},
   "outputs": [],
   "source": []
  },
  {
   "cell_type": "code",
   "execution_count": 9,
   "id": "c31211d9-aef1-49f5-b764-18c7f417c2e1",
   "metadata": {},
   "outputs": [],
   "source": [
    "#creating products and its category , using a dictonary so that the product can correspond to the category"
   ]
  },
  {
   "cell_type": "code",
   "execution_count": 10,
   "id": "60bad93c-d68b-4768-acf6-359a69f4948b",
   "metadata": {},
   "outputs": [],
   "source": [
    "mapping_products={\n",
    "    'Electronics' : ['Laptop', 'Smartwatch', 'Camera', 'Game Console'] ,\n",
    "    'Home Appliance' : ['Washing machine', 'Air conditioner','Electricial Fan','Vacuum cleaner'],\n",
    "    'Mobile Devices' : ['iPhone 11', 'iPhone 12' , 'iPhone 13' ,'Samsung Galaxy S23'],\n",
    "    'Gaming' : ['Playstation 4' ,'Playstation 5', 'Controller'],\n",
    "    'Audio' : ['Headphones', 'Earphones' ,'Earpods','Microphone'],\n",
    "    'Accessories' : ['VR headset','Gaming chair' ,'Gaming keyboard' ,'Led Lights']\n",
    "}"
   ]
  },
  {
   "cell_type": "code",
   "execution_count": 11,
   "id": "4b495b6d-7885-4c8b-8709-85909afa639f",
   "metadata": {},
   "outputs": [],
   "source": [
    "product_category =np.random.choice(list(mapping_products.keys()),n) #classifying the keys in the dictonary as product category"
   ]
  },
  {
   "cell_type": "code",
   "execution_count": 12,
   "id": "0c238f92-99e9-4cb4-91eb-c6f7b6aa4b28",
   "metadata": {},
   "outputs": [],
   "source": [
    "product_name = [np.random.choice(mapping_products[category]) for category in product_category] # classify the values of the key in product category as the product name , and executing a code that enables it to be selected randomly"
   ]
  },
  {
   "cell_type": "code",
   "execution_count": null,
   "id": "d0389a48-845d-4fb7-aa5f-7b9fc15ce288",
   "metadata": {},
   "outputs": [],
   "source": []
  },
  {
   "cell_type": "code",
   "execution_count": 13,
   "id": "ed07df68-e8af-4141-ba8b-59ec4c5d953e",
   "metadata": {},
   "outputs": [],
   "source": [
    "mapping_prices = {\n",
    "    'Laptop' : 7000,\n",
    "    'Smartwatch' : 4000,\n",
    "    'Camera' : 7500,\n",
    "    'Game Console' : 10000,\n",
    "    'Washing machine' : 10000,\n",
    "    'Air conditioner':2000,\n",
    "    'Electricial Fan': 350,\n",
    "    'Vacuum cleaner': 500,\n",
    "    'iPhone 11' : 9000,\n",
    "    'iPhone 12': 11000,\n",
    "    'iPhone 13': 11500,\n",
    "    'Samsung Galaxy S23': 14000,\n",
    "    'Playstation 4': 9500,\n",
    "    'Playstation 5':13000,\n",
    "    'Controller': 3000,\n",
    "    'Headphones':400,\n",
    "    'Earphones':150,\n",
    "    'Earpods': 250,\n",
    "    'Microphone':2500,\n",
    "    'VR headset':8000,\n",
    "    'Gaming chair':1200 ,\n",
    "    'Gaming keyboard':400,\n",
    "    'Led Lights':150\n",
    "}  # making produce name and price correspond to one another"
   ]
  },
  {
   "cell_type": "code",
   "execution_count": 14,
   "id": "88f757e8-88d0-4545-83d8-4d2727216241",
   "metadata": {},
   "outputs": [],
   "source": [
    "product_price = [mapping_prices[name] for name in product_name] #mapping price to product"
   ]
  },
  {
   "cell_type": "code",
   "execution_count": null,
   "id": "f7946443-b3cd-4be3-b0ca-9b5e6f99b21e",
   "metadata": {},
   "outputs": [],
   "source": []
  },
  {
   "cell_type": "code",
   "execution_count": 15,
   "id": "31b72e57-52b2-47ed-8d83-fc627d90d799",
   "metadata": {},
   "outputs": [],
   "source": [
    "quantity_purachased =np.random.randint(1,3,n)# selecting a random amount purchased betwen 1 and 2"
   ]
  },
  {
   "cell_type": "code",
   "execution_count": null,
   "id": "a696ea4b-3434-4794-b4c1-36ab0e73a22f",
   "metadata": {},
   "outputs": [],
   "source": []
  },
  {
   "cell_type": "code",
   "execution_count": 16,
   "id": "96c0b386-f836-4519-802f-636d0308c8f2",
   "metadata": {},
   "outputs": [],
   "source": [
    "start_date = pd.to_datetime('2024-01-01')#pd.to_datetime() converts string into datetime objects"
   ]
  },
  {
   "cell_type": "code",
   "execution_count": 17,
   "id": "1fc1a6d3-5519-48ba-9e8b-5ad267dab8cb",
   "metadata": {},
   "outputs": [],
   "source": [
    "end_date = pd.to_datetime('2025-01-01')  #defining the start and end dates for your random date generation."
   ]
  },
  {
   "cell_type": "code",
   "execution_count": 18,
   "id": "4cbd1ffd-8928-4b6b-8eb3-c3a70c15f6b3",
   "metadata": {},
   "outputs": [],
   "source": [
    "n_days = (end_date - start_date).days #This calculates the total number of days between your start and end dates."
   ]
  },
  {
   "cell_type": "code",
   "execution_count": 19,
   "id": "e3823560-a0c2-4db6-b170-c1e6cb319078",
   "metadata": {},
   "outputs": [],
   "source": [
    "random_days = np.random.randint(0,n_days,n) #generates n random integers between 0 and n_days - 1."
   ]
  },
  {
   "cell_type": "code",
   "execution_count": 20,
   "id": "201fa972-8c95-4072-a115-1187d57f6a97",
   "metadata": {},
   "outputs": [],
   "source": [
    "random_dates = start_date + pd.to_timedelta(random_days,unit='d') #converts the integers into timedeltas (differences in time)."
   ]
  },
  {
   "cell_type": "code",
   "execution_count": null,
   "id": "0899fad2-40cc-434d-9135-9d3f67ea1e75",
   "metadata": {},
   "outputs": [],
   "source": []
  },
  {
   "cell_type": "code",
   "execution_count": 21,
   "id": "f575a691-f5a7-4653-9827-d08c562cc451",
   "metadata": {},
   "outputs": [],
   "source": [
    "paymethod = ['Cash', 'Credit Card', 'Debit Card', 'EFT']"
   ]
  },
  {
   "cell_type": "code",
   "execution_count": 22,
   "id": "2644f4dd-ffad-4415-8d35-84bc3b7362f1",
   "metadata": {},
   "outputs": [],
   "source": [
    "paymethod_column = np.random.choice(paymethod , n)"
   ]
  },
  {
   "cell_type": "code",
   "execution_count": null,
   "id": "50091cf3-de7b-4fe1-8f42-8caa94a05611",
   "metadata": {},
   "outputs": [],
   "source": []
  },
  {
   "cell_type": "code",
   "execution_count": 23,
   "id": "3525f8ad-6151-4062-8d3a-384678d5f3a1",
   "metadata": {},
   "outputs": [],
   "source": [
    "df= pd.DataFrame({\n",
    "    'Transaction ID' : transaction_ids,\n",
    "    'Customer ID' : random_customer_id,\n",
    "    'Customer Age Group' : random_age,\n",
    "    'Product Category' : product_category,\n",
    "    'Product Name' : product_name,\n",
    "    'Unit Price (R)' : product_price,\n",
    "    'Quantity Purchased' : quantity_purachased,\n",
    "    'Date of Purchase': random_dates,\n",
    "    'Payment Method' : paymethod_column\n",
    "})"
   ]
  },
  {
   "cell_type": "code",
   "execution_count": null,
   "id": "624f564a-8495-4c8e-a780-373f7162e116",
   "metadata": {},
   "outputs": [],
   "source": []
  },
  {
   "cell_type": "code",
   "execution_count": 24,
   "id": "5984a3b8-6f58-4a70-843a-d723a2795ab0",
   "metadata": {},
   "outputs": [],
   "source": [
    "df['Total Sale Amount (R)'] = df['Quantity Purchased'] * df['Unit Price (R)']"
   ]
  },
  {
   "cell_type": "code",
   "execution_count": 25,
   "id": "d8a4de19-8ef7-4afd-8aca-011ff083a314",
   "metadata": {},
   "outputs": [
    {
     "data": {
      "text/html": [
       "<div>\n",
       "<style scoped>\n",
       "    .dataframe tbody tr th:only-of-type {\n",
       "        vertical-align: middle;\n",
       "    }\n",
       "\n",
       "    .dataframe tbody tr th {\n",
       "        vertical-align: top;\n",
       "    }\n",
       "\n",
       "    .dataframe thead th {\n",
       "        text-align: right;\n",
       "    }\n",
       "</style>\n",
       "<table border=\"1\" class=\"dataframe\">\n",
       "  <thead>\n",
       "    <tr style=\"text-align: right;\">\n",
       "      <th></th>\n",
       "      <th>Transaction ID</th>\n",
       "      <th>Customer ID</th>\n",
       "      <th>Customer Age Group</th>\n",
       "      <th>Product Category</th>\n",
       "      <th>Product Name</th>\n",
       "      <th>Unit Price (R)</th>\n",
       "      <th>Quantity Purchased</th>\n",
       "      <th>Date of Purchase</th>\n",
       "      <th>Payment Method</th>\n",
       "      <th>Total Sale Amount (R)</th>\n",
       "    </tr>\n",
       "  </thead>\n",
       "  <tbody>\n",
       "    <tr>\n",
       "      <th>0</th>\n",
       "      <td>T00001</td>\n",
       "      <td>C0090</td>\n",
       "      <td>51+</td>\n",
       "      <td>Gaming</td>\n",
       "      <td>Playstation 5</td>\n",
       "      <td>13000</td>\n",
       "      <td>1</td>\n",
       "      <td>2024-10-31</td>\n",
       "      <td>Credit Card</td>\n",
       "      <td>13000</td>\n",
       "    </tr>\n",
       "    <tr>\n",
       "      <th>1</th>\n",
       "      <td>T00002</td>\n",
       "      <td>C0091</td>\n",
       "      <td>51+</td>\n",
       "      <td>Gaming</td>\n",
       "      <td>Controller</td>\n",
       "      <td>3000</td>\n",
       "      <td>1</td>\n",
       "      <td>2024-07-29</td>\n",
       "      <td>Credit Card</td>\n",
       "      <td>3000</td>\n",
       "    </tr>\n",
       "    <tr>\n",
       "      <th>2</th>\n",
       "      <td>T00003</td>\n",
       "      <td>C0027</td>\n",
       "      <td>36–50</td>\n",
       "      <td>Accessories</td>\n",
       "      <td>Led Lights</td>\n",
       "      <td>150</td>\n",
       "      <td>2</td>\n",
       "      <td>2024-02-27</td>\n",
       "      <td>Debit Card</td>\n",
       "      <td>300</td>\n",
       "    </tr>\n",
       "    <tr>\n",
       "      <th>3</th>\n",
       "      <td>T00004</td>\n",
       "      <td>C0056</td>\n",
       "      <td>26–35</td>\n",
       "      <td>Audio</td>\n",
       "      <td>Earpods</td>\n",
       "      <td>250</td>\n",
       "      <td>1</td>\n",
       "      <td>2024-06-16</td>\n",
       "      <td>Cash</td>\n",
       "      <td>250</td>\n",
       "    </tr>\n",
       "    <tr>\n",
       "      <th>4</th>\n",
       "      <td>T00005</td>\n",
       "      <td>C0090</td>\n",
       "      <td>18–25</td>\n",
       "      <td>Audio</td>\n",
       "      <td>Earphones</td>\n",
       "      <td>150</td>\n",
       "      <td>2</td>\n",
       "      <td>2024-07-03</td>\n",
       "      <td>Cash</td>\n",
       "      <td>300</td>\n",
       "    </tr>\n",
       "  </tbody>\n",
       "</table>\n",
       "</div>"
      ],
      "text/plain": [
       "  Transaction ID Customer ID Customer Age Group Product Category  \\\n",
       "0         T00001       C0090                51+           Gaming   \n",
       "1         T00002       C0091                51+           Gaming   \n",
       "2         T00003       C0027              36–50      Accessories   \n",
       "3         T00004       C0056              26–35            Audio   \n",
       "4         T00005       C0090              18–25            Audio   \n",
       "\n",
       "    Product Name  Unit Price (R)  Quantity Purchased Date of Purchase  \\\n",
       "0  Playstation 5           13000                   1       2024-10-31   \n",
       "1     Controller            3000                   1       2024-07-29   \n",
       "2     Led Lights             150                   2       2024-02-27   \n",
       "3        Earpods             250                   1       2024-06-16   \n",
       "4      Earphones             150                   2       2024-07-03   \n",
       "\n",
       "  Payment Method  Total Sale Amount (R)  \n",
       "0    Credit Card                  13000  \n",
       "1    Credit Card                   3000  \n",
       "2     Debit Card                    300  \n",
       "3           Cash                    250  \n",
       "4           Cash                    300  "
      ]
     },
     "execution_count": 25,
     "metadata": {},
     "output_type": "execute_result"
    }
   ],
   "source": [
    "df.head()"
   ]
  },
  {
   "cell_type": "code",
   "execution_count": 26,
   "id": "405d6d9d-23cb-4769-921f-ccfeb519b5ce",
   "metadata": {},
   "outputs": [
    {
     "name": "stdout",
     "output_type": "stream",
     "text": [
      "<class 'pandas.core.frame.DataFrame'>\n",
      "RangeIndex: 250 entries, 0 to 249\n",
      "Data columns (total 10 columns):\n",
      " #   Column                 Non-Null Count  Dtype         \n",
      "---  ------                 --------------  -----         \n",
      " 0   Transaction ID         250 non-null    object        \n",
      " 1   Customer ID            250 non-null    object        \n",
      " 2   Customer Age Group     250 non-null    object        \n",
      " 3   Product Category       250 non-null    object        \n",
      " 4   Product Name           250 non-null    object        \n",
      " 5   Unit Price (R)         250 non-null    int64         \n",
      " 6   Quantity Purchased     250 non-null    int32         \n",
      " 7   Date of Purchase       250 non-null    datetime64[ns]\n",
      " 8   Payment Method         250 non-null    object        \n",
      " 9   Total Sale Amount (R)  250 non-null    int64         \n",
      "dtypes: datetime64[ns](1), int32(1), int64(2), object(6)\n",
      "memory usage: 18.7+ KB\n"
     ]
    }
   ],
   "source": [
    "df.info()"
   ]
  },
  {
   "cell_type": "code",
   "execution_count": null,
   "id": "67422c3d-d1be-4441-b4d6-f02611da0fd7",
   "metadata": {},
   "outputs": [],
   "source": []
  },
  {
   "cell_type": "code",
   "execution_count": 27,
   "id": "c5b4bdb0-6ef8-4090-9490-87244d3d44f4",
   "metadata": {},
   "outputs": [],
   "source": [
    "import matplotlib.pyplot as plt"
   ]
  },
  {
   "cell_type": "code",
   "execution_count": 28,
   "id": "37ea19a0-ab5e-4ceb-a424-513fb976db04",
   "metadata": {},
   "outputs": [],
   "source": [
    "df['Month'] = df['Date of Purchase'].dt.to_period('M').astype(str)"
   ]
  },
  {
   "cell_type": "code",
   "execution_count": 29,
   "id": "a301d0bd-d9b6-421f-9243-dc066b56c103",
   "metadata": {},
   "outputs": [],
   "source": [
    "monthly_revenue = df.groupby('Month')['Total Sale Amount (R)'].sum().reset_index()"
   ]
  },
  {
   "cell_type": "code",
   "execution_count": 30,
   "id": "027dda50-15a3-483c-bac2-dfc0ccc3afc3",
   "metadata": {},
   "outputs": [
    {
     "data": {
      "text/plain": [
       "([0, 1, 2, 3, 4, 5, 6, 7, 8, 9, 10, 11],\n",
       " [Text(0, 0, '2024-01'),\n",
       "  Text(1, 0, '2024-02'),\n",
       "  Text(2, 0, '2024-03'),\n",
       "  Text(3, 0, '2024-04'),\n",
       "  Text(4, 0, '2024-05'),\n",
       "  Text(5, 0, '2024-06'),\n",
       "  Text(6, 0, '2024-07'),\n",
       "  Text(7, 0, '2024-08'),\n",
       "  Text(8, 0, '2024-09'),\n",
       "  Text(9, 0, '2024-10'),\n",
       "  Text(10, 0, '2024-11'),\n",
       "  Text(11, 0, '2024-12')])"
      ]
     },
     "execution_count": 30,
     "metadata": {},
     "output_type": "execute_result"
    },
    {
     "data": {
      "image/png": "[encoded data removed]",
      "text/plain": [
       "<Figure size 640x480 with 1 Axes>"
      ]
     },
     "metadata": {},
     "output_type": "display_data"
    }
   ],
   "source": [
    "plt.plot(monthly_revenue['Month'] ,monthly_revenue['Total Sale Amount (R)'] , color = 'purple') \n",
    "plt.title('The monthly revenue of the year 2024')\n",
    "plt.xlabel('Months')\n",
    "plt.ylabel('Total Revenue (R)')\n",
    "plt.xticks(rotation = 90)"
   ]
  },
  {
   "cell_type": "code",
   "execution_count": null,
   "id": "1c22fa52-a3ed-47c7-b7ba-0f9d081b136f",
   "metadata": {},
   "outputs": [],
   "source": []
  },
  {
   "cell_type": "code",
   "execution_count": 32,
   "id": "8e53d7b6-b307-4917-9c23-1e13183712d9",
   "metadata": {},
   "outputs": [],
   "source": [
    "df.to_csv('my_dataset.csv', index = False) # Makes a file that will contain the exact dataset, including all random selections made."
   ]
  },
  {
   "cell_type": "code",
   "execution_count": null,
   "id": "c9bfcedd-4b4e-4504-a414-17faa6f9fb25",
   "metadata": {},
   "outputs": [],
   "source": []
  }
 ],
 "metadata": {
  "kernelspec": {
   "display_name": "Python 3 (ipykernel)",
   "language": "python",
   "name": "python3"
  },
  "language_info": {
   "codemirror_mode": {
    "name": "ipython",
    "version": 3
   },
   "file_extension": ".py",
   "mimetype": "text/x-python",
   "name": "python",
   "nbconvert_exporter": "python",
   "pygments_lexer": "ipython3",
   "version": "3.13.5"
  }
 },
 "nbformat": 4,
 "nbformat_minor": 5
}
